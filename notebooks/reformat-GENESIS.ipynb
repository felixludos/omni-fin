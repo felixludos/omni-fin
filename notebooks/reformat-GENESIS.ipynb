{
 "cells": [
  {
   "cell_type": "code",
   "execution_count": 5,
   "id": "initial_id",
   "metadata": {
    "collapsed": true,
    "ExecuteTime": {
     "end_time": "2023-10-08T21:17:07.847711100Z",
     "start_time": "2023-10-08T21:17:07.837173900Z"
    }
   },
   "outputs": [],
   "source": [
    "from pathlib import Path\n",
    "from tqdm.notebook import tqdm\n",
    "import yaml\n",
    "from collections import Counter\n",
    "from omnibelt import load_json, save_json, load_csv, load_yaml\n",
    "from omnifin import misc, World, UnknownAssetError, UnknownAccountError, FinanceManager\n",
    "from omnifin import Account, Asset, Transaction, Statement"
   ]
  },
  {
   "cell_type": "code",
   "execution_count": 2,
   "outputs": [],
   "source": [
    "shortcut_path = Path().absolute().parent / 'db' / 'vault' / 'shortcuts.yml'\n",
    "raw_shortcuts = load_yaml(shortcut_path)\n",
    "w = World(asset_shortcuts=raw_shortcuts.get('assets', {}), \n",
    "\t\t  account_shortcuts=raw_shortcuts.get('accounts', {}))"
   ],
   "metadata": {
    "collapsed": false,
    "ExecuteTime": {
     "end_time": "2023-10-08T21:14:48.861570400Z",
     "start_time": "2023-10-08T21:14:48.855640900Z"
    }
   },
   "id": "8b8bf76f461b5ae5"
  },
  {
   "cell_type": "code",
   "execution_count": 7,
   "outputs": [
    {
     "data": {
      "text/plain": "(24, 9)"
     },
     "execution_count": 7,
     "metadata": {},
     "output_type": "execute_result"
    }
   ],
   "source": [
    "m = FinanceManager()\n",
    "m.initialize()\n",
    "w.populate()\n",
    "len(w.assets), len(w.accounts)"
   ],
   "metadata": {
    "collapsed": false,
    "ExecuteTime": {
     "end_time": "2023-10-08T21:21:12.983773700Z",
     "start_time": "2023-10-08T21:21:12.974939500Z"
    }
   },
   "id": "178627ef3b07a283"
  },
  {
   "cell_type": "code",
   "execution_count": 4,
   "outputs": [
    {
     "data": {
      "text/plain": "Report(test, 23-10-08 21:15:31)"
     },
     "execution_count": 4,
     "metadata": {},
     "output_type": "execute_result"
    }
   ],
   "source": [
    "# r = m.create_current('test')\n",
    "# r"
   ],
   "metadata": {
    "collapsed": false,
    "ExecuteTime": {
     "end_time": "2023-10-08T21:15:31.309782700Z",
     "start_time": "2023-10-08T21:15:31.291615800Z"
    }
   },
   "id": "23b72e6c57aa3d47"
  },
  {
   "cell_type": "code",
   "execution_count": null,
   "outputs": [],
   "source": [],
   "metadata": {
    "collapsed": false
   },
   "id": "b8529e0d0fb00bc8"
  },
  {
   "cell_type": "code",
   "execution_count": null,
   "outputs": [],
   "source": [],
   "metadata": {
    "collapsed": false
   },
   "id": "58e274d810a4fee4"
  },
  {
   "cell_type": "code",
   "execution_count": null,
   "outputs": [],
   "source": [],
   "metadata": {
    "collapsed": false
   },
   "id": "8ddcd6b2a58ea6e4"
  },
  {
   "cell_type": "code",
   "execution_count": 17,
   "outputs": [
    {
     "data": {
      "text/plain": "True"
     },
     "execution_count": 17,
     "metadata": {},
     "output_type": "execute_result"
    }
   ],
   "source": [
    "mcc_path = Path().absolute().parent / 'assets' / 'mcc_codes.json'\n",
    "path = Path().absolute().parent / 'extra' / 'usbank' / 'usbank-full.json'\n",
    "path.exists()"
   ],
   "metadata": {
    "collapsed": false,
    "ExecuteTime": {
     "end_time": "2023-10-08T22:10:27.303124800Z",
     "start_time": "2023-10-08T22:10:27.298260300Z"
    }
   },
   "id": "3d3ab488a2cb2ea6"
  },
  {
   "cell_type": "code",
   "execution_count": 18,
   "outputs": [
    {
     "data": {
      "text/plain": "9"
     },
     "execution_count": 18,
     "metadata": {},
     "output_type": "execute_result"
    }
   ],
   "source": [
    "cats_shortcuts = load_yaml(shortcut_path)\n",
    "assets = cats_shortcuts.get('assets', {})\n",
    "len(assets)"
   ],
   "metadata": {
    "collapsed": false,
    "ExecuteTime": {
     "end_time": "2023-10-08T22:10:28.303350900Z",
     "start_time": "2023-10-08T22:10:28.293111100Z"
    }
   },
   "id": "cf4f1781f42be546"
  },
  {
   "cell_type": "code",
   "execution_count": 30,
   "outputs": [
    {
     "data": {
      "text/plain": "1714"
     },
     "execution_count": 30,
     "metadata": {},
     "output_type": "execute_result"
    }
   ],
   "source": [
    "raw = load_json(path)\n",
    "len(raw)"
   ],
   "metadata": {
    "collapsed": false,
    "ExecuteTime": {
     "end_time": "2023-10-08T22:38:24.077102600Z",
     "start_time": "2023-10-08T22:38:24.056294100Z"
    }
   },
   "id": "ce488227666cf0c2"
  },
  {
   "cell_type": "code",
   "execution_count": 13,
   "outputs": [
    {
     "data": {
      "text/plain": "10"
     },
     "execution_count": 13,
     "metadata": {},
     "output_type": "execute_result"
    }
   ],
   "source": [
    "recurr = Counter(t.get('received-unit', None) for t in raw)\n",
    "for k, v in recurr.most_common():\n",
    "\tif k is not None:\n",
    "\t\tw.find_asset(k)\n",
    "len(recurr)"
   ],
   "metadata": {
    "collapsed": false,
    "ExecuteTime": {
     "end_time": "2023-10-08T21:47:23.692638400Z",
     "start_time": "2023-10-08T21:47:23.684123500Z"
    }
   },
   "id": "822844bc9ac5fbf5"
  },
  {
   "cell_type": "code",
   "execution_count": 23,
   "outputs": [
    {
     "data": {
      "text/plain": "113"
     },
     "execution_count": 23,
     "metadata": {},
     "output_type": "execute_result"
    }
   ],
   "source": [
    "codes = Counter(t.get('mcc', None) for t in raw)\n",
    "len(codes)"
   ],
   "metadata": {
    "collapsed": false,
    "ExecuteTime": {
     "end_time": "2023-10-08T22:10:43.069722200Z",
     "start_time": "2023-10-08T22:10:43.060552300Z"
    }
   },
   "id": "b4a793b76cad4f36"
  },
  {
   "cell_type": "code",
   "execution_count": 20,
   "outputs": [
    {
     "data": {
      "text/plain": "981"
     },
     "execution_count": 20,
     "metadata": {},
     "output_type": "execute_result"
    }
   ],
   "source": [
    "mcc_raw = load_json(mcc_path)\n",
    "mcc = {m['mcc']: m for m in mcc_raw}\n",
    "assert len(mcc) == len(mcc_raw)\n",
    "len(mcc)"
   ],
   "metadata": {
    "collapsed": false,
    "ExecuteTime": {
     "end_time": "2023-10-08T22:10:38.062617300Z",
     "start_time": "2023-10-08T22:10:38.053799800Z"
    }
   },
   "id": "e7134b74f4255421"
  },
  {
   "cell_type": "code",
   "execution_count": 21,
   "outputs": [
    {
     "ename": "NameError",
     "evalue": "name 'codes' is not defined",
     "output_type": "error",
     "traceback": [
      "\u001B[1;31m---------------------------------------------------------------------------\u001B[0m",
      "\u001B[1;31mNameError\u001B[0m                                 Traceback (most recent call last)",
      "Cell \u001B[1;32mIn[21], line 1\u001B[0m\n\u001B[1;32m----> 1\u001B[0m \u001B[38;5;28mset\u001B[39m(c \u001B[38;5;28;01mfor\u001B[39;00m c \u001B[38;5;129;01min\u001B[39;00m \u001B[43mcodes\u001B[49m \u001B[38;5;28;01mif\u001B[39;00m c \u001B[38;5;129;01mis\u001B[39;00m \u001B[38;5;129;01mnot\u001B[39;00m \u001B[38;5;28;01mNone\u001B[39;00m \u001B[38;5;129;01mand\u001B[39;00m c[\u001B[38;5;241m1\u001B[39m:] \u001B[38;5;129;01mnot\u001B[39;00m \u001B[38;5;129;01min\u001B[39;00m mcc)\n",
      "\u001B[1;31mNameError\u001B[0m: name 'codes' is not defined"
     ]
    }
   ],
   "source": [
    "set(c for c in codes if c is not None and c[1:] not in mcc)"
   ],
   "metadata": {
    "collapsed": false,
    "ExecuteTime": {
     "end_time": "2023-10-08T22:10:38.593150900Z",
     "start_time": "2023-10-08T22:10:38.573934700Z"
    }
   },
   "id": "83dfbf6f40d69bf3"
  },
  {
   "cell_type": "code",
   "execution_count": 31,
   "outputs": [
    {
     "data": {
      "text/plain": "45"
     },
     "execution_count": 31,
     "metadata": {},
     "output_type": "execute_result"
    }
   ],
   "source": [
    "locs = Counter(t.get('location', None) for t in raw)\n",
    "len(locs)"
   ],
   "metadata": {
    "collapsed": false,
    "ExecuteTime": {
     "end_time": "2023-10-08T22:38:26.515629400Z",
     "start_time": "2023-10-08T22:38:26.513207600Z"
    }
   },
   "id": "65f0719008d027af"
  },
  {
   "cell_type": "code",
   "execution_count": null,
   "outputs": [],
   "source": [],
   "metadata": {
    "collapsed": false
   },
   "id": "23701133bd4d709"
  },
  {
   "cell_type": "code",
   "execution_count": null,
   "outputs": [],
   "source": [],
   "metadata": {
    "collapsed": false
   },
   "id": "64d53ed48e2d1ba0"
  },
  {
   "cell_type": "code",
   "execution_count": 23,
   "outputs": [],
   "source": [],
   "metadata": {
    "collapsed": false,
    "ExecuteTime": {
     "end_time": "2023-10-08T18:15:50.951963900Z",
     "start_time": "2023-10-08T18:15:50.932345600Z"
    }
   },
   "id": "9c197aa8b6809872"
  },
  {
   "cell_type": "code",
   "execution_count": 26,
   "outputs": [],
   "source": [
    "names = [standardize(x) for x in recurr if x is not None]"
   ],
   "metadata": {
    "collapsed": false,
    "ExecuteTime": {
     "end_time": "2023-10-08T18:17:04.203464400Z",
     "start_time": "2023-10-08T18:17:04.191157600Z"
    }
   },
   "id": "39c8e19d8282af21"
  },
  {
   "cell_type": "code",
   "execution_count": null,
   "outputs": [],
   "source": [],
   "metadata": {
    "collapsed": false
   },
   "id": "33b1a88cb995243f"
  },
  {
   "cell_type": "code",
   "execution_count": null,
   "outputs": [],
   "source": [],
   "metadata": {
    "collapsed": false,
    "ExecuteTime": {
     "end_time": "2023-10-07T22:50:08.354205900Z",
     "start_time": "2023-10-07T22:50:08.340702200Z"
    }
   },
   "id": "cbd152f86bab37bc"
  },
  {
   "cell_type": "code",
   "execution_count": null,
   "outputs": [],
   "source": [],
   "metadata": {
    "collapsed": false
   },
   "id": "ae121a1146c37d73"
  }
 ],
 "metadata": {
  "kernelspec": {
   "display_name": "Python 3",
   "language": "python",
   "name": "python3"
  },
  "language_info": {
   "codemirror_mode": {
    "name": "ipython",
    "version": 2
   },
   "file_extension": ".py",
   "mimetype": "text/x-python",
   "name": "python",
   "nbconvert_exporter": "python",
   "pygments_lexer": "ipython2",
   "version": "2.7.6"
  }
 },
 "nbformat": 4,
 "nbformat_minor": 5
}
