{
 "cells": [
  {
   "cell_type": "code",
   "execution_count": 18,
   "id": "initial_id",
   "metadata": {
    "collapsed": true,
    "ExecuteTime": {
     "end_time": "2023-10-07T23:54:07.558909200Z",
     "start_time": "2023-10-07T23:54:07.554398Z"
    }
   },
   "outputs": [],
   "source": [
    "from pathlib import Path\n",
    "from tqdm.notebook import tqdm\n",
    "import yaml\n",
    "from collections import Counter\n",
    "from omnibelt import load_json, save_json, load_csv, load_yaml"
   ]
  },
  {
   "cell_type": "code",
   "execution_count": 19,
   "outputs": [
    {
     "data": {
      "text/plain": "True"
     },
     "execution_count": 19,
     "metadata": {},
     "output_type": "execute_result"
    }
   ],
   "source": [
    "shortcut_path = Path().absolute().parent / 'assets' / 'shortcuts.yaml'\n",
    "mcc_path = Path().absolute().parent / 'assets' / 'mcc_codes.json'\n",
    "path = Path().absolute().parent / 'extra' / 'usbank' / 'usbank-full.json'\n",
    "path.exists()"
   ],
   "metadata": {
    "collapsed": false,
    "ExecuteTime": {
     "end_time": "2023-10-07T23:54:56.919334100Z",
     "start_time": "2023-10-07T23:54:56.907208800Z"
    }
   },
   "id": "3d3ab488a2cb2ea6"
  },
  {
   "cell_type": "code",
   "execution_count": 22,
   "outputs": [],
   "source": [
    "shortcuts = load_yaml(shortcut_path)\n",
    "len(shortcuts)"
   ],
   "metadata": {
    "collapsed": false,
    "ExecuteTime": {
     "end_time": "2023-10-07T23:55:18.090206200Z",
     "start_time": "2023-10-07T23:55:18.078746Z"
    }
   },
   "id": "cf4f1781f42be546"
  },
  {
   "cell_type": "code",
   "execution_count": 7,
   "outputs": [
    {
     "data": {
      "text/plain": "1714"
     },
     "execution_count": 7,
     "metadata": {},
     "output_type": "execute_result"
    }
   ],
   "source": [
    "raw = load_json(path)\n",
    "len(raw)"
   ],
   "metadata": {
    "collapsed": false,
    "ExecuteTime": {
     "end_time": "2023-10-07T23:02:17.294861300Z",
     "start_time": "2023-10-07T23:02:17.283477800Z"
    }
   },
   "id": "ce488227666cf0c2"
  },
  {
   "cell_type": "code",
   "execution_count": 8,
   "outputs": [
    {
     "data": {
      "text/plain": "10"
     },
     "execution_count": 8,
     "metadata": {},
     "output_type": "execute_result"
    }
   ],
   "source": [
    "recurr = Counter(t.get('received-unit', None) for t in raw)\n",
    "len(recurr)"
   ],
   "metadata": {
    "collapsed": false,
    "ExecuteTime": {
     "end_time": "2023-10-07T23:02:17.722744200Z",
     "start_time": "2023-10-07T23:02:17.713058200Z"
    }
   },
   "id": "822844bc9ac5fbf5"
  },
  {
   "cell_type": "code",
   "execution_count": 15,
   "outputs": [
    {
     "data": {
      "text/plain": "113"
     },
     "execution_count": 15,
     "metadata": {},
     "output_type": "execute_result"
    }
   ],
   "source": [
    "codes = Counter(t.get('mcc', None) for t in raw)\n",
    "len(codes)"
   ],
   "metadata": {
    "collapsed": false,
    "ExecuteTime": {
     "end_time": "2023-10-07T23:20:44.641515500Z",
     "start_time": "2023-10-07T23:20:44.631013500Z"
    }
   },
   "id": "b4a793b76cad4f36"
  },
  {
   "cell_type": "code",
   "execution_count": 13,
   "outputs": [
    {
     "data": {
      "text/plain": "981"
     },
     "execution_count": 13,
     "metadata": {},
     "output_type": "execute_result"
    }
   ],
   "source": [
    "mcc_raw = load_json(mcc_path)\n",
    "mcc = {m['mcc']: m for m in mcc_raw}\n",
    "assert len(mcc) == len(mcc_raw)\n",
    "len(mcc)"
   ],
   "metadata": {
    "collapsed": false,
    "ExecuteTime": {
     "end_time": "2023-10-07T23:20:02.138971800Z",
     "start_time": "2023-10-07T23:20:02.127857400Z"
    }
   },
   "id": "e7134b74f4255421"
  },
  {
   "cell_type": "code",
   "execution_count": 17,
   "outputs": [
    {
     "data": {
      "text/plain": "{'00761'}"
     },
     "execution_count": 17,
     "metadata": {},
     "output_type": "execute_result"
    }
   ],
   "source": [
    "set(c for c in codes if c is not None and c[1:] not in mcc)"
   ],
   "metadata": {
    "collapsed": false,
    "ExecuteTime": {
     "end_time": "2023-10-07T23:20:52.427675300Z",
     "start_time": "2023-10-07T23:20:52.416111300Z"
    }
   },
   "id": "83dfbf6f40d69bf3"
  },
  {
   "cell_type": "code",
   "execution_count": null,
   "outputs": [],
   "source": [],
   "metadata": {
    "collapsed": false
   },
   "id": "9c197aa8b6809872"
  },
  {
   "cell_type": "code",
   "execution_count": null,
   "outputs": [],
   "source": [
    "shortcuts.update()"
   ],
   "metadata": {
    "collapsed": false
   },
   "id": "39c8e19d8282af21"
  },
  {
   "cell_type": "code",
   "execution_count": null,
   "outputs": [],
   "source": [],
   "metadata": {
    "collapsed": false
   },
   "id": "33b1a88cb995243f"
  },
  {
   "cell_type": "code",
   "execution_count": null,
   "outputs": [],
   "source": [],
   "metadata": {
    "collapsed": false,
    "ExecuteTime": {
     "end_time": "2023-10-07T22:50:08.354205900Z",
     "start_time": "2023-10-07T22:50:08.340702200Z"
    }
   },
   "id": "cbd152f86bab37bc"
  },
  {
   "cell_type": "code",
   "execution_count": null,
   "outputs": [],
   "source": [],
   "metadata": {
    "collapsed": false
   },
   "id": "ae121a1146c37d73"
  }
 ],
 "metadata": {
  "kernelspec": {
   "display_name": "Python 3",
   "language": "python",
   "name": "python3"
  },
  "language_info": {
   "codemirror_mode": {
    "name": "ipython",
    "version": 2
   },
   "file_extension": ".py",
   "mimetype": "text/x-python",
   "name": "python",
   "nbconvert_exporter": "python",
   "pygments_lexer": "ipython2",
   "version": "2.7.6"
  }
 },
 "nbformat": 4,
 "nbformat_minor": 5
}
