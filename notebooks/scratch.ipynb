{
 "cells": [
  {
   "cell_type": "code",
   "execution_count": 1,
   "id": "initial_id",
   "metadata": {
    "collapsed": true,
    "ExecuteTime": {
     "end_time": "2024-03-05T23:14:25.460649Z",
     "start_time": "2024-03-05T23:14:24.836583Z"
    }
   },
   "outputs": [],
   "source": [
    "import yfinance as yf\n",
    "import requests\n",
    "from bs4 import BeautifulSoup\n",
    "import json"
   ]
  },
  {
   "cell_type": "code",
   "outputs": [],
   "source": [
    "url = 'https://www.onvista.de/suche?searchValue={}'"
   ],
   "metadata": {
    "collapsed": false,
    "ExecuteTime": {
     "end_time": "2024-03-05T23:42:37.827250Z",
     "start_time": "2024-03-05T23:42:37.824079Z"
    }
   },
   "id": "850160e17663d2ae",
   "execution_count": 8
  },
  {
   "cell_type": "code",
   "outputs": [
    {
     "data": {
      "text/plain": "200"
     },
     "execution_count": 30,
     "metadata": {},
     "output_type": "execute_result"
    }
   ],
   "source": [
    "res = requests.get(url.format('US0378331005'))\n",
    "res.status_code"
   ],
   "metadata": {
    "collapsed": false,
    "ExecuteTime": {
     "end_time": "2024-03-05T23:57:37.094466Z",
     "start_time": "2024-03-05T23:57:35.891455Z"
    }
   },
   "id": "c5d71d7b5970674d",
   "execution_count": 30
  },
  {
   "cell_type": "code",
   "outputs": [],
   "source": [
    "# view with beautiful soup\n",
    "soup = BeautifulSoup(res.text, 'html.parser')\n",
    "# print(soup.prettify())"
   ],
   "metadata": {
    "collapsed": false,
    "ExecuteTime": {
     "end_time": "2024-03-05T23:57:39.751052Z",
     "start_time": "2024-03-05T23:57:39.618806Z"
    }
   },
   "id": "ab4bd77d84299e4d",
   "execution_count": 32
  },
  {
   "cell_type": "code",
   "outputs": [],
   "source": [
    "# find script tag with data\n",
    "script = soup.find_all('script', {'id': '__NEXT_DATA__'})"
   ],
   "metadata": {
    "collapsed": false,
    "ExecuteTime": {
     "end_time": "2024-03-05T23:57:40.803527Z",
     "start_time": "2024-03-05T23:57:40.798147Z"
    }
   },
   "id": "89e33d9a6c2adf54",
   "execution_count": 33
  },
  {
   "cell_type": "code",
   "outputs": [],
   "source": [
    "obj = json.loads(script[0].text)"
   ],
   "metadata": {
    "collapsed": false,
    "ExecuteTime": {
     "end_time": "2024-03-05T23:57:42.166508Z",
     "start_time": "2024-03-05T23:57:42.161480Z"
    }
   },
   "id": "6fce214ce6715e2b",
   "execution_count": 35
  },
  {
   "cell_type": "code",
   "outputs": [
    {
     "data": {
      "text/plain": "{'props': {'pageProps': {'searchValue': 'aapl'}, '__N_SSP': True},\n 'page': '/suche',\n 'query': {'searchValue': 'aapl'},\n 'buildId': 'ro5boekuT0h0O4A7r3-vK',\n 'isFallback': False,\n 'dynamicIds': [7446, 26597],\n 'gssp': True,\n 'scriptLoader': []}"
     },
     "execution_count": 29,
     "metadata": {},
     "output_type": "execute_result"
    }
   ],
   "source": [
    "obj"
   ],
   "metadata": {
    "collapsed": false,
    "ExecuteTime": {
     "end_time": "2024-03-05T23:56:33.031514Z",
     "start_time": "2024-03-05T23:56:33.026045Z"
    }
   },
   "id": "f5a69f312245b651",
   "execution_count": 29
  },
  {
   "cell_type": "code",
   "outputs": [],
   "source": [],
   "metadata": {
    "collapsed": false
   },
   "id": "ff688c2e81ac925"
  },
  {
   "cell_type": "code",
   "outputs": [],
   "source": [],
   "metadata": {
    "collapsed": false
   },
   "id": "d58c5ebe633aaa71"
  },
  {
   "cell_type": "code",
   "outputs": [],
   "source": [],
   "metadata": {
    "collapsed": false
   },
   "id": "c83ccb26a22a221a"
  }
 ],
 "metadata": {
  "kernelspec": {
   "display_name": "Python 3",
   "language": "python",
   "name": "python3"
  },
  "language_info": {
   "codemirror_mode": {
    "name": "ipython",
    "version": 2
   },
   "file_extension": ".py",
   "mimetype": "text/x-python",
   "name": "python",
   "nbconvert_exporter": "python",
   "pygments_lexer": "ipython2",
   "version": "2.7.6"
  }
 },
 "nbformat": 4,
 "nbformat_minor": 5
}
