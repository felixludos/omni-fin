{
 "cells": [
  {
   "cell_type": "code",
   "execution_count": 1,
   "id": "initial_id",
   "metadata": {
    "collapsed": true,
    "ExecuteTime": {
     "end_time": "2024-02-23T11:44:03.536712500Z",
     "start_time": "2024-02-23T11:44:01.746392200Z"
    }
   },
   "outputs": [],
   "source": [
    "from omnibelt import load_yaml, load_json, save_json, save_yaml\n",
    "import omnifig as fig\n",
    "from datetime import datetime\n",
    "from omnifin.datacls import Record, Report, Asset, Account, Transaction, Statement\n",
    "from omnifin.building import init_db\n",
    "from omnifin.misc import data_root, repo_root, load_db\n",
    "fig.initialize()"
   ]
  },
  {
   "cell_type": "code",
   "outputs": [],
   "source": [
    "root = repo_root() "
   ],
   "metadata": {
    "collapsed": false,
    "ExecuteTime": {
     "end_time": "2024-02-23T11:44:03.555411400Z",
     "start_time": "2024-02-23T11:44:03.543188300Z"
    }
   },
   "id": "f24d894e3eda1621",
   "execution_count": 2
  },
  {
   "cell_type": "code",
   "outputs": [
    {
     "data": {
      "text/plain": "10"
     },
     "execution_count": 3,
     "metadata": {},
     "output_type": "execute_result"
    }
   ],
   "source": [
    "assets = load_yaml(root / 'db' / 'vault' / 'assets.yml')\n",
    "len(assets)"
   ],
   "metadata": {
    "collapsed": false,
    "ExecuteTime": {
     "end_time": "2024-02-23T11:44:03.613620800Z",
     "start_time": "2024-02-23T11:44:03.553214400Z"
    }
   },
   "id": "169aa028bb764347",
   "execution_count": 3
  },
  {
   "cell_type": "code",
   "outputs": [],
   "source": [],
   "metadata": {
    "collapsed": false,
    "ExecuteTime": {
     "end_time": "2024-02-23T11:44:11.452233900Z",
     "start_time": "2024-02-23T11:44:11.436734600Z"
    }
   },
   "id": "8a0f36b078d0ae68",
   "execution_count": 3
  },
  {
   "cell_type": "code",
   "outputs": [],
   "source": [
    "conn = load_db(root / 'db' / 'novo.db')\n",
    "init_db(conn)\n",
    "Record.set_conn(conn)"
   ],
   "metadata": {
    "collapsed": false,
    "ExecuteTime": {
     "end_time": "2024-02-22T01:06:21.317195700Z",
     "start_time": "2024-02-22T01:06:21.304147900Z"
    }
   },
   "id": "b7f6dbf5a5353e47",
   "execution_count": 3
  },
  {
   "cell_type": "code",
   "outputs": [],
   "source": [
    "usd = Asset('USD')"
   ],
   "metadata": {
    "collapsed": false,
    "ExecuteTime": {
     "end_time": "2024-02-22T01:06:22.596270400Z",
     "start_time": "2024-02-22T01:06:22.582756600Z"
    }
   },
   "id": "c710466d774c5343",
   "execution_count": 4
  },
  {
   "cell_type": "code",
   "outputs": [
    {
     "data": {
      "text/plain": "Asset\u001B[91m*\u001B[0m(\u001B[92mUSD\u001B[0m)"
     },
     "execution_count": 5,
     "metadata": {},
     "output_type": "execute_result"
    }
   ],
   "source": [
    "usd"
   ],
   "metadata": {
    "collapsed": false,
    "ExecuteTime": {
     "end_time": "2024-02-22T01:06:22.914265300Z",
     "start_time": "2024-02-22T01:06:22.901288300Z"
    }
   },
   "id": "efd55d8fb8a38ef4",
   "execution_count": 5
  },
  {
   "cell_type": "code",
   "outputs": [
    {
     "data": {
      "text/plain": "Asset\u001B[91m\u001B[0m(\u001B[92mUSD\u001B[0m)"
     },
     "execution_count": 6,
     "metadata": {},
     "output_type": "execute_result"
    }
   ],
   "source": [
    "Asset.find('USD')"
   ],
   "metadata": {
    "collapsed": false,
    "ExecuteTime": {
     "end_time": "2024-02-22T01:06:24.969730800Z",
     "start_time": "2024-02-22T01:06:24.954626Z"
    }
   },
   "id": "57f328dfc442411c",
   "execution_count": 6
  },
  {
   "cell_type": "code",
   "outputs": [],
   "source": [],
   "metadata": {
    "collapsed": false
   },
   "id": "65cdd69a3f283a41"
  },
  {
   "cell_type": "code",
   "outputs": [
    {
     "data": {
      "text/plain": "Report\u001B[91m*\u001B[0m(\u001B[96mmanual\u001B[0m, 24-02-21 22:57:44)"
     },
     "execution_count": 7,
     "metadata": {},
     "output_type": "execute_result"
    }
   ],
   "source": [
    "report = Report(category='manual', description='in juypter', created=datetime.now())\n",
    "report"
   ],
   "metadata": {
    "collapsed": false,
    "ExecuteTime": {
     "end_time": "2024-02-21T21:57:45.010998500Z",
     "start_time": "2024-02-21T21:57:44.995238200Z"
    }
   },
   "id": "ee368e38dcba0f7",
   "execution_count": 7
  },
  {
   "cell_type": "code",
   "outputs": [
    {
     "data": {
      "text/plain": "4"
     },
     "execution_count": 8,
     "metadata": {},
     "output_type": "execute_result"
    }
   ],
   "source": [
    "report.write(conn.cursor())"
   ],
   "metadata": {
    "collapsed": false,
    "ExecuteTime": {
     "end_time": "2024-02-21T21:57:47.396051700Z",
     "start_time": "2024-02-21T21:57:47.379408800Z"
    }
   },
   "id": "354ac79891f4e951",
   "execution_count": 8
  },
  {
   "cell_type": "code",
   "outputs": [
    {
     "name": "stdout",
     "output_type": "stream",
     "text": [
      "\u001B[91m\u001B[0m\u001B[96mmanual\u001B[0m[7 minutes ago]\n"
     ]
    }
   ],
   "source": [
    "print(report)"
   ],
   "metadata": {
    "collapsed": false,
    "ExecuteTime": {
     "end_time": "2024-02-21T22:05:12.854316800Z",
     "start_time": "2024-02-21T22:05:12.834327600Z"
    }
   },
   "id": "a89bb759bc01c018",
   "execution_count": 10
  },
  {
   "cell_type": "code",
   "outputs": [],
   "source": [
    "conn.commit()"
   ],
   "metadata": {
    "collapsed": false,
    "ExecuteTime": {
     "end_time": "2024-02-21T21:55:33.736319Z",
     "start_time": "2024-02-21T21:55:33.718879500Z"
    }
   },
   "id": "819a33da7f8423dc",
   "execution_count": 11
  },
  {
   "cell_type": "code",
   "outputs": [],
   "source": [
    "report.ID"
   ],
   "metadata": {
    "collapsed": false,
    "ExecuteTime": {
     "end_time": "2024-02-21T21:49:08.810957100Z",
     "start_time": "2024-02-21T21:49:08.806921300Z"
    }
   },
   "id": "cc5c3da5aa088fcf",
   "execution_count": 16
  },
  {
   "cell_type": "code",
   "outputs": [
    {
     "ename": "NameError",
     "evalue": "name 'conn' is not defined",
     "output_type": "error",
     "traceback": [
      "\u001B[1;31m---------------------------------------------------------------------------\u001B[0m",
      "\u001B[1;31mNameError\u001B[0m                                 Traceback (most recent call last)",
      "Cell \u001B[1;32mIn[4], line 1\u001B[0m\n\u001B[1;32m----> 1\u001B[0m \u001B[43mconn\u001B[49m\u001B[38;5;241m.\u001B[39mclose()\n",
      "\u001B[1;31mNameError\u001B[0m: name 'conn' is not defined"
     ]
    }
   ],
   "source": [
    "conn.close()"
   ],
   "metadata": {
    "collapsed": false,
    "ExecuteTime": {
     "end_time": "2024-02-23T11:46:34.203923300Z",
     "start_time": "2024-02-23T11:46:33.455731400Z"
    }
   },
   "id": "7bb16e71a446f369",
   "execution_count": 4
  },
  {
   "cell_type": "code",
   "outputs": [],
   "source": [],
   "metadata": {
    "collapsed": false
   },
   "id": "bfb8d7526d9cdd66"
  },
  {
   "cell_type": "code",
   "outputs": [],
   "source": [],
   "metadata": {
    "collapsed": false
   },
   "id": "56139f50077aaf02"
  },
  {
   "cell_type": "code",
   "outputs": [],
   "source": [],
   "metadata": {
    "collapsed": false
   },
   "id": "bca710cd3c0df452"
  },
  {
   "cell_type": "code",
   "outputs": [],
   "source": [],
   "metadata": {
    "collapsed": false
   },
   "id": "e37019243581eec4"
  }
 ],
 "metadata": {
  "kernelspec": {
   "display_name": "Python 3",
   "language": "python",
   "name": "python3"
  },
  "language_info": {
   "codemirror_mode": {
    "name": "ipython",
    "version": 2
   },
   "file_extension": ".py",
   "mimetype": "text/x-python",
   "name": "python",
   "nbconvert_exporter": "python",
   "pygments_lexer": "ipython2",
   "version": "2.7.6"
  }
 },
 "nbformat": 4,
 "nbformat_minor": 5
}
