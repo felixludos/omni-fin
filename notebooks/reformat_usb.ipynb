{
 "cells": [
  {
   "cell_type": "code",
   "execution_count": 18,
   "id": "initial_id",
   "metadata": {
    "collapsed": true,
    "ExecuteTime": {
     "end_time": "2023-11-25T00:47:35.789822500Z",
     "start_time": "2023-11-25T00:47:35.764767Z"
    }
   },
   "outputs": [],
   "source": [
    "from pathlib import Path\n",
    "from tqdm.notebook import tqdm\n",
    "import yaml\n",
    "from collections import Counter\n",
    "import pandas as pd\n",
    "from omnibelt import load_json, save_json, load_csv, load_yaml, load_csv_rows\n",
    "from omnifin import misc"
   ]
  },
  {
   "cell_type": "code",
   "execution_count": 6,
   "outputs": [],
   "source": [
    "root = misc.repo_root() / 'extra' / 'usbank'"
   ],
   "metadata": {
    "collapsed": false,
    "ExecuteTime": {
     "end_time": "2023-11-25T00:26:43.321341200Z",
     "start_time": "2023-11-25T00:26:43.303237Z"
    }
   },
   "id": "3cbd07539c19cac9"
  },
  {
   "cell_type": "code",
   "execution_count": 7,
   "outputs": [
    {
     "data": {
      "text/plain": "(True, True)"
     },
     "execution_count": 7,
     "metadata": {},
     "output_type": "execute_result"
    }
   ],
   "source": [
    "locpath = root / 'cashplus_locs.csv'\n",
    "recpath = root / 'cashplus_records.csv'\n",
    "locpath.exists(), recpath.exists()"
   ],
   "metadata": {
    "collapsed": false,
    "ExecuteTime": {
     "end_time": "2023-11-25T00:26:43.543678200Z",
     "start_time": "2023-11-25T00:26:43.533373300Z"
    }
   },
   "id": "c770a05a3b843cd4"
  },
  {
   "cell_type": "code",
   "execution_count": 22,
   "outputs": [
    {
     "data": {
      "text/plain": "54"
     },
     "execution_count": 22,
     "metadata": {},
     "output_type": "execute_result"
    }
   ],
   "source": [
    "locs = list(load_csv_rows(locpath))\n",
    "len(locs)"
   ],
   "metadata": {
    "collapsed": false,
    "ExecuteTime": {
     "end_time": "2023-11-25T00:48:07.707496400Z",
     "start_time": "2023-11-25T00:48:07.692813500Z"
    }
   },
   "id": "6eaea8e92edec233"
  },
  {
   "cell_type": "code",
   "execution_count": 43,
   "outputs": [],
   "source": [
    "# locs[0]"
   ],
   "metadata": {
    "collapsed": false,
    "ExecuteTime": {
     "end_time": "2023-11-25T01:55:00.552570800Z",
     "start_time": "2023-11-25T01:55:00.550385700Z"
    }
   },
   "id": "210a87e8702edae7"
  },
  {
   "cell_type": "code",
   "execution_count": 21,
   "outputs": [
    {
     "data": {
      "text/plain": "54"
     },
     "execution_count": 21,
     "metadata": {},
     "output_type": "execute_result"
    }
   ],
   "source": [
    "recs = list(load_csv_rows(recpath))\n",
    "len(recs)"
   ],
   "metadata": {
    "collapsed": false,
    "ExecuteTime": {
     "end_time": "2023-11-25T00:48:06.207062700Z",
     "start_time": "2023-11-25T00:48:06.189532100Z"
    }
   },
   "id": "bce6bd9cc329dc65"
  },
  {
   "cell_type": "code",
   "execution_count": 44,
   "outputs": [],
   "source": [
    "# recs[0]"
   ],
   "metadata": {
    "collapsed": false,
    "ExecuteTime": {
     "end_time": "2023-11-25T01:55:02.349496300Z",
     "start_time": "2023-11-25T01:55:02.332577900Z"
    }
   },
   "id": "ec153345e8068068"
  },
  {
   "cell_type": "code",
   "execution_count": 39,
   "outputs": [
    {
     "data": {
      "text/plain": "41"
     },
     "execution_count": 39,
     "metadata": {},
     "output_type": "execute_result"
    }
   ],
   "source": [
    "def convert_entry(loc, rec):\n",
    "\tif rec['Amount'] > 0:\n",
    "\t\treturn None\n",
    "\t\n",
    "\titem = {\n",
    "\t\t'usd': -rec['Amount'],\n",
    "\t\t'txn-number': rec['Memo'].split(';')[0].strip(),\n",
    "\t\t'mcc': rec['Memo'].split(';')[1].strip(),\n",
    "\t\t'cleaned': loc['Details'],\n",
    "\t}\n",
    "\tdesc = rec['Name']\n",
    "\tif 'EURO' in desc:\n",
    "\t\tamount = desc.split(' - ')[-1].split('EURO')[0].strip()\n",
    "\t\tamount = float(amount.replace(',', ''))\n",
    "\t\titem.update({\n",
    "\t\t\t'received-amount': amount,\n",
    "\t\t\t'received-unit': 'EURO',\n",
    "\t\t})\n",
    "\t\n",
    "\tcity = loc['City']\n",
    "\tif str(city) == 'nan':\n",
    "\t\tcity = None\n",
    "\tlocation = loc['Country']\n",
    "\tif str(location) == 'nan':\n",
    "\t\tlocation = None\n",
    "\t\n",
    "\titem.update({\n",
    "\t\t'date': rec['Date'],\n",
    "\t\t'city': city,\n",
    "\t\t'location': location,\n",
    "\t\t'online': loc['Type'] == 'online',\n",
    "\t})\n",
    "\treturn item\n",
    "\n",
    "fixed = []\n",
    "for rec, loc in zip(recs, locs):\n",
    "\titem = convert_entry(loc, rec)\n",
    "\tif item is None:\n",
    "\t\tcontinue\n",
    "\tfixed.append(item)\n",
    "len(fixed)"
   ],
   "metadata": {
    "collapsed": false,
    "ExecuteTime": {
     "end_time": "2023-11-25T01:46:26.415471200Z",
     "start_time": "2023-11-25T01:46:26.395662100Z"
    }
   },
   "id": "ec2fdd359fa478e5"
  },
  {
   "cell_type": "code",
   "execution_count": 42,
   "outputs": [],
   "source": [
    "fixedpath = root / 'fixed.json'\n",
    "save_json(fixed, fixedpath)"
   ],
   "metadata": {
    "collapsed": false,
    "ExecuteTime": {
     "end_time": "2023-11-25T01:46:41.412284600Z",
     "start_time": "2023-11-25T01:46:41.378177Z"
    }
   },
   "id": "8cd4dc2149199c5"
  },
  {
   "cell_type": "code",
   "execution_count": 35,
   "outputs": [
    {
     "data": {
      "text/plain": "54"
     },
     "execution_count": 35,
     "metadata": {},
     "output_type": "execute_result"
    }
   ],
   "source": [],
   "metadata": {
    "collapsed": false,
    "ExecuteTime": {
     "end_time": "2023-11-25T01:44:09.489260500Z",
     "start_time": "2023-11-25T01:44:09.393881900Z"
    }
   },
   "id": "a6c20c5e8c0c93bb"
  },
  {
   "cell_type": "code",
   "execution_count": null,
   "outputs": [],
   "source": [],
   "metadata": {
    "collapsed": false
   },
   "id": "f6091b6a68c91867"
  },
  {
   "cell_type": "code",
   "execution_count": null,
   "outputs": [],
   "source": [],
   "metadata": {
    "collapsed": false
   },
   "id": "426339a5f6ff4e53"
  },
  {
   "cell_type": "code",
   "execution_count": null,
   "outputs": [],
   "source": [],
   "metadata": {
    "collapsed": false
   },
   "id": "b4d61c1909c3204"
  },
  {
   "cell_type": "code",
   "execution_count": null,
   "outputs": [],
   "source": [],
   "metadata": {
    "collapsed": false
   },
   "id": "65a6f0b1810abd2b"
  }
 ],
 "metadata": {
  "kernelspec": {
   "display_name": "Python 3",
   "language": "python",
   "name": "python3"
  },
  "language_info": {
   "codemirror_mode": {
    "name": "ipython",
    "version": 2
   },
   "file_extension": ".py",
   "mimetype": "text/x-python",
   "name": "python",
   "nbconvert_exporter": "python",
   "pygments_lexer": "ipython2",
   "version": "2.7.6"
  }
 },
 "nbformat": 4,
 "nbformat_minor": 5
}
