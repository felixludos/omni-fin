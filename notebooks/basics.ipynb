{
 "cells": [
  {
   "cell_type": "code",
   "execution_count": 1,
   "id": "initial_id",
   "metadata": {
    "collapsed": true,
    "ExecuteTime": {
     "end_time": "2023-10-01T15:34:35.490410200Z",
     "start_time": "2023-10-01T15:34:35.467180Z"
    }
   },
   "outputs": [],
   "source": [
    "from tabulate import tabulate\n",
    "import omnifin as of\n",
    "from datetime import datetime"
   ]
  },
  {
   "cell_type": "code",
   "execution_count": 2,
   "outputs": [
    {
     "data": {
      "text/plain": "datetime.datetime(2023, 10, 1, 17, 34, 35, 494409)"
     },
     "execution_count": 2,
     "metadata": {},
     "output_type": "execute_result"
    }
   ],
   "source": [
    "now = datetime.now()\n",
    "now"
   ],
   "metadata": {
    "collapsed": false,
    "ExecuteTime": {
     "end_time": "2023-10-01T15:34:35.521929900Z",
     "start_time": "2023-10-01T15:34:35.496410900Z"
    }
   },
   "id": "ddd54ff8376ecf0c"
  },
  {
   "cell_type": "code",
   "execution_count": 3,
   "outputs": [],
   "source": [
    "# conn = of.load_db()\n",
    "# of.init_db(conn)"
   ],
   "metadata": {
    "collapsed": false,
    "ExecuteTime": {
     "end_time": "2023-10-01T15:34:35.569515100Z",
     "start_time": "2023-10-01T15:34:35.517782200Z"
    }
   },
   "id": "d3c398204bd32d4f"
  },
  {
   "cell_type": "code",
   "execution_count": 4,
   "outputs": [],
   "source": [
    "m = of.FinanceManager()"
   ],
   "metadata": {
    "collapsed": false,
    "ExecuteTime": {
     "end_time": "2023-10-01T15:34:35.587519600Z",
     "start_time": "2023-10-01T15:34:35.529930800Z"
    }
   },
   "id": "dcf7416bbf86188d"
  },
  {
   "cell_type": "code",
   "execution_count": 5,
   "outputs": [
    {
     "data": {
      "text/plain": "3"
     },
     "execution_count": 5,
     "metadata": {},
     "output_type": "execute_result"
    }
   ],
   "source": [
    "m.create_report(date=now, category='test')"
   ],
   "metadata": {
    "collapsed": false,
    "ExecuteTime": {
     "end_time": "2023-10-01T15:34:35.588516600Z",
     "start_time": "2023-10-01T15:34:35.547186700Z"
    }
   },
   "id": "a2f2e0bbbf50579b"
  },
  {
   "cell_type": "code",
   "execution_count": 6,
   "outputs": [
    {
     "data": {
      "text/plain": "(2, '2023-10-01', 'test', None, None, '2023-10-01 17:29:53.609464')"
     },
     "execution_count": 6,
     "metadata": {},
     "output_type": "execute_result"
    }
   ],
   "source": [
    "m.get_report_info(2)"
   ],
   "metadata": {
    "collapsed": false,
    "ExecuteTime": {
     "end_time": "2023-10-01T15:34:36.997404Z",
     "start_time": "2023-10-01T15:34:36.981914400Z"
    }
   },
   "id": "a857a22b35a780fe"
  },
  {
   "cell_type": "code",
   "execution_count": 7,
   "outputs": [
    {
     "data": {
      "text/plain": "[(0, 'id', 'INTEGER', 0, None, 1),\n (1, 'dateof', 'DATE', 1, None, 0),\n (2, 'category', 'TEXT', 1, None, 0),\n (3, 'associated_account', 'INTEGER', 0, None, 0),\n (4, 'description', 'TEXT', 0, None, 0),\n (5, 'created_at', 'DATETIME', 1, 'CURRENT_TIMESTAMP', 0)]"
     },
     "execution_count": 7,
     "metadata": {},
     "output_type": "execute_result"
    }
   ],
   "source": [
    "m.get_table_properties('reports')"
   ],
   "metadata": {
    "collapsed": false,
    "ExecuteTime": {
     "end_time": "2023-10-01T15:34:37.611217700Z",
     "start_time": "2023-10-01T15:34:37.589988300Z"
    }
   },
   "id": "6deeed61218d03c8"
  },
  {
   "cell_type": "code",
   "execution_count": null,
   "outputs": [],
   "source": [],
   "metadata": {
    "collapsed": false
   },
   "id": "a267b62668cbd6c4"
  },
  {
   "cell_type": "code",
   "execution_count": null,
   "outputs": [],
   "source": [
    "\n",
    "# # Example usage\n",
    "# # You need to replace 'my_financial_db.sqlite' with the actual path where you want to store your SQLite database\n",
    "# finance_manager = FinanceManager('my_financial_db.sqlite')\n",
    "# \n",
    "# # Adding an account\n",
    "# finance_manager.add_account(name=\"Savings\", account_type=\"Bank\", category=\"Personal\",\n",
    "# \t\t\t\t\t\t\tdescription=\"My personal savings account\")\n",
    "# \n",
    "# # Removing an account\n",
    "# # finance_manager.remove_account(name=\"Savings\")\n",
    "# \n",
    "# # Fetching accounts\n",
    "# accounts = finance_manager.get_accounts()\n",
    "# for account in accounts:\n",
    "# \tprint(account)\n",
    "# \n",
    "# # Don't forget to close the connection when done\n",
    "# finance_manager.close()\n"
   ],
   "metadata": {
    "collapsed": false
   },
   "id": "6fa55d81a6091f81"
  },
  {
   "cell_type": "code",
   "execution_count": null,
   "outputs": [],
   "source": [],
   "metadata": {
    "collapsed": false
   },
   "id": "99c790fe58178996"
  },
  {
   "cell_type": "code",
   "execution_count": 2,
   "outputs": [],
   "source": [
    "engine = of.load_db()\n",
    "of.init_db(engine)\n",
    "session = of.db_session(engine)"
   ],
   "metadata": {
    "collapsed": false,
    "ExecuteTime": {
     "end_time": "2023-10-01T14:52:09.343959600Z",
     "start_time": "2023-10-01T14:52:09.326143500Z"
    }
   },
   "id": "88eead4c33f778b1"
  },
  {
   "cell_type": "code",
   "execution_count": 17,
   "outputs": [
    {
     "name": "stdout",
     "output_type": "stream",
     "text": [
      "  id  dateof      category    account    description    created\n",
      "----  ----------  ----------  ---------  -------------  -------------------\n",
      "   1  2023-10-01  test                                  2023-10-01 14:53:06\n"
     ]
    }
   ],
   "source": [
    "reports = session.query(Report).all()\n",
    "rows = [(report.id, report.dateof, report.category, report.associated_account, report.description, report.created_at) for report in reports]\n",
    "print(tabulate(rows, headers=['id', 'dateof', 'category', 'account', 'description', 'created']))"
   ],
   "metadata": {
    "collapsed": false,
    "ExecuteTime": {
     "end_time": "2023-10-01T14:55:58.624128700Z",
     "start_time": "2023-10-01T14:55:58.599415Z"
    }
   },
   "id": "fe94866f2723229c"
  },
  {
   "cell_type": "code",
   "execution_count": 5,
   "outputs": [
    {
     "data": {
      "text/plain": "datetime.datetime(2023, 10, 1, 16, 52, 21, 601588)"
     },
     "execution_count": 5,
     "metadata": {},
     "output_type": "execute_result"
    }
   ],
   "source": [
    "now = datetime.now()\n",
    "now"
   ],
   "metadata": {
    "collapsed": false,
    "ExecuteTime": {
     "end_time": "2023-10-01T14:52:21.789632500Z",
     "start_time": "2023-10-01T14:52:21.604585400Z"
    }
   },
   "id": "3f88876ea8c23fb9"
  },
  {
   "cell_type": "code",
   "execution_count": 8,
   "outputs": [],
   "source": [
    "report = Report(dateof=now, category='test')"
   ],
   "metadata": {
    "collapsed": false,
    "ExecuteTime": {
     "end_time": "2023-10-01T14:52:58.177760500Z",
     "start_time": "2023-10-01T14:52:58.169760800Z"
    }
   },
   "id": "aa1bfa949bad43d2"
  },
  {
   "cell_type": "code",
   "execution_count": 9,
   "outputs": [],
   "source": [
    "session.add(report)\n",
    "session.commit()"
   ],
   "metadata": {
    "collapsed": false,
    "ExecuteTime": {
     "end_time": "2023-10-01T14:53:06.333178900Z",
     "start_time": "2023-10-01T14:53:06.297029600Z"
    }
   },
   "id": "67de84519f7fd2ea"
  },
  {
   "cell_type": "code",
   "execution_count": 19,
   "outputs": [
    {
     "data": {
      "text/plain": "datetime.date(2023, 10, 1)"
     },
     "execution_count": 19,
     "metadata": {},
     "output_type": "execute_result"
    }
   ],
   "source": [
    "report.dateof"
   ],
   "metadata": {
    "collapsed": false,
    "ExecuteTime": {
     "end_time": "2023-10-01T15:02:16.555990300Z",
     "start_time": "2023-10-01T15:02:16.480582100Z"
    }
   },
   "id": "275cde2019e497e7"
  },
  {
   "cell_type": "code",
   "execution_count": null,
   "outputs": [],
   "source": [],
   "metadata": {
    "collapsed": false
   },
   "id": "984dd31a3b35e9e8"
  },
  {
   "cell_type": "code",
   "execution_count": null,
   "outputs": [],
   "source": [],
   "metadata": {
    "collapsed": false
   },
   "id": "e66eba796f7d5a42"
  }
 ],
 "metadata": {
  "kernelspec": {
   "display_name": "Python 3",
   "language": "python",
   "name": "python3"
  },
  "language_info": {
   "codemirror_mode": {
    "name": "ipython",
    "version": 2
   },
   "file_extension": ".py",
   "mimetype": "text/x-python",
   "name": "python",
   "nbconvert_exporter": "python",
   "pygments_lexer": "ipython2",
   "version": "2.7.6"
  }
 },
 "nbformat": 4,
 "nbformat_minor": 5
}
