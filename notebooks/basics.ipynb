{
 "cells": [
  {
   "cell_type": "code",
   "execution_count": 13,
   "id": "initial_id",
   "metadata": {
    "collapsed": true,
    "ExecuteTime": {
     "end_time": "2023-10-01T14:54:35.725849800Z",
     "start_time": "2023-10-01T14:54:35.698259100Z"
    }
   },
   "outputs": [],
   "source": [
    "from tabulate import tabulate\n",
    "import omnifin as of\n",
    "from datetime import datetime\n",
    "from omnifin.building import Account, Report, Statement"
   ]
  },
  {
   "cell_type": "code",
   "execution_count": 2,
   "outputs": [],
   "source": [
    "engine = of.load_db()\n",
    "of.init_db(engine)\n",
    "session = of.db_session(engine)"
   ],
   "metadata": {
    "collapsed": false,
    "ExecuteTime": {
     "end_time": "2023-10-01T14:52:09.343959600Z",
     "start_time": "2023-10-01T14:52:09.326143500Z"
    }
   },
   "id": "88eead4c33f778b1"
  },
  {
   "cell_type": "code",
   "execution_count": 17,
   "outputs": [
    {
     "name": "stdout",
     "output_type": "stream",
     "text": [
      "  id  dateof      category    account    description    created\n",
      "----  ----------  ----------  ---------  -------------  -------------------\n",
      "   1  2023-10-01  test                                  2023-10-01 14:53:06\n"
     ]
    }
   ],
   "source": [
    "reports = session.query(Report).all()\n",
    "rows = [(report.id, report.dateof, report.category, report.associated_account, report.description, report.created_at) for report in reports]\n",
    "print(tabulate(rows, headers=['id', 'dateof', 'category', 'account', 'description', 'created']))"
   ],
   "metadata": {
    "collapsed": false,
    "ExecuteTime": {
     "end_time": "2023-10-01T14:55:58.624128700Z",
     "start_time": "2023-10-01T14:55:58.599415Z"
    }
   },
   "id": "fe94866f2723229c"
  },
  {
   "cell_type": "code",
   "execution_count": 5,
   "outputs": [
    {
     "data": {
      "text/plain": "datetime.datetime(2023, 10, 1, 16, 52, 21, 601588)"
     },
     "execution_count": 5,
     "metadata": {},
     "output_type": "execute_result"
    }
   ],
   "source": [
    "now = datetime.now()\n",
    "now"
   ],
   "metadata": {
    "collapsed": false,
    "ExecuteTime": {
     "end_time": "2023-10-01T14:52:21.789632500Z",
     "start_time": "2023-10-01T14:52:21.604585400Z"
    }
   },
   "id": "3f88876ea8c23fb9"
  },
  {
   "cell_type": "code",
   "execution_count": 8,
   "outputs": [],
   "source": [
    "report = Report(dateof=now, category='test')"
   ],
   "metadata": {
    "collapsed": false,
    "ExecuteTime": {
     "end_time": "2023-10-01T14:52:58.177760500Z",
     "start_time": "2023-10-01T14:52:58.169760800Z"
    }
   },
   "id": "aa1bfa949bad43d2"
  },
  {
   "cell_type": "code",
   "execution_count": 9,
   "outputs": [],
   "source": [
    "session.add(report)\n",
    "session.commit()"
   ],
   "metadata": {
    "collapsed": false,
    "ExecuteTime": {
     "end_time": "2023-10-01T14:53:06.333178900Z",
     "start_time": "2023-10-01T14:53:06.297029600Z"
    }
   },
   "id": "67de84519f7fd2ea"
  },
  {
   "cell_type": "code",
   "execution_count": 19,
   "outputs": [
    {
     "data": {
      "text/plain": "datetime.date(2023, 10, 1)"
     },
     "execution_count": 19,
     "metadata": {},
     "output_type": "execute_result"
    }
   ],
   "source": [
    "report.dateof"
   ],
   "metadata": {
    "collapsed": false,
    "ExecuteTime": {
     "end_time": "2023-10-01T15:02:16.555990300Z",
     "start_time": "2023-10-01T15:02:16.480582100Z"
    }
   },
   "id": "275cde2019e497e7"
  },
  {
   "cell_type": "code",
   "execution_count": null,
   "outputs": [],
   "source": [],
   "metadata": {
    "collapsed": false
   },
   "id": "984dd31a3b35e9e8"
  },
  {
   "cell_type": "code",
   "execution_count": null,
   "outputs": [],
   "source": [],
   "metadata": {
    "collapsed": false
   },
   "id": "e66eba796f7d5a42"
  }
 ],
 "metadata": {
  "kernelspec": {
   "display_name": "Python 3",
   "language": "python",
   "name": "python3"
  },
  "language_info": {
   "codemirror_mode": {
    "name": "ipython",
    "version": 2
   },
   "file_extension": ".py",
   "mimetype": "text/x-python",
   "name": "python",
   "nbconvert_exporter": "python",
   "pygments_lexer": "ipython2",
   "version": "2.7.6"
  }
 },
 "nbformat": 4,
 "nbformat_minor": 5
}
