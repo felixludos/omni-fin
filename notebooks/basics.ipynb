{
 "cells": [
  {
   "cell_type": "code",
   "execution_count": 1,
   "id": "initial_id",
   "metadata": {
    "collapsed": true,
    "ExecuteTime": {
     "end_time": "2023-10-03T10:12:55.857557500Z",
     "start_time": "2023-10-03T10:12:55.313261700Z"
    }
   },
   "outputs": [],
   "source": [
    "from tabulate import tabulate\n",
    "import omnifin as of\n",
    "from omnifin import Report, Asset, Account, Tag, Transaction, Statement\n",
    "from datetime import datetime\n",
    "# now = datetime.now()\n",
    "# now"
   ]
  },
  {
   "cell_type": "code",
   "execution_count": 2,
   "outputs": [
    {
     "name": "stdout",
     "output_type": "stream",
     "text": [
      "All shortcuts populated successfully\n"
     ]
    },
    {
     "data": {
      "text/plain": "{'reports': 2,\n 'assets': 7,\n 'tags': 0,\n 'accounts': 9,\n 'statements': 0,\n 'transactions': 0,\n 'transaction_links': 0,\n 'statement_links': 0,\n 'transaction_tags': 0,\n 'statement_tags': 0,\n 'account_tags': 0}"
     },
     "execution_count": 2,
     "metadata": {},
     "output_type": "execute_result"
    }
   ],
   "source": [
    "m = of.FinanceManager()\n",
    "tb_info = m.initialize()\n",
    "shortcut_fails = m.populate_shortcuts()\n",
    "print(f'{len(shortcut_fails)} shortcuts failed to populate' if len(shortcut_fails) else 'All shortcuts populated successfully')\n",
    "tb_info"
   ],
   "metadata": {
    "collapsed": false,
    "ExecuteTime": {
     "end_time": "2023-10-03T10:12:55.955308200Z",
     "start_time": "2023-10-03T10:12:55.860559400Z"
    }
   },
   "id": "dcf7416bbf86188d"
  },
  {
   "cell_type": "code",
   "execution_count": 3,
   "outputs": [
    {
     "data": {
      "text/plain": "Report(test, 23-10-03 10:08:27)"
     },
     "execution_count": 3,
     "metadata": {},
     "output_type": "execute_result"
    }
   ],
   "source": [
    "m.create_current(category='test', description='using jupyter')"
   ],
   "metadata": {
    "collapsed": false,
    "ExecuteTime": {
     "end_time": "2023-10-03T10:08:27.913301900Z",
     "start_time": "2023-10-03T10:08:27.830549500Z"
    }
   },
   "id": "16ca30cc5f9f1f3d"
  },
  {
   "cell_type": "code",
   "execution_count": 3,
   "outputs": [
    {
     "data": {
      "text/plain": "<fintech:paypal>"
     },
     "execution_count": 3,
     "metadata": {},
     "output_type": "execute_result"
    }
   ],
   "source": [
    "m.p('paypal')"
   ],
   "metadata": {
    "collapsed": false,
    "ExecuteTime": {
     "end_time": "2023-10-03T10:13:03.596059300Z",
     "start_time": "2023-10-03T10:13:03.569680500Z"
    }
   },
   "id": "4d6f54ab07f44cf0"
  },
  {
   "cell_type": "code",
   "execution_count": 4,
   "outputs": [
    {
     "data": {
      "text/plain": "[Report(test, 23-10-03 10:08:27), Report(init, 23-10-03 10:02:58)]"
     },
     "execution_count": 4,
     "metadata": {},
     "output_type": "execute_result"
    }
   ],
   "source": [
    "list(m.past_reports())"
   ],
   "metadata": {
    "collapsed": false,
    "ExecuteTime": {
     "end_time": "2023-10-03T10:13:09.594145800Z",
     "start_time": "2023-10-03T10:13:09.574017600Z"
    }
   },
   "id": "f713bea8d8bebe77"
  },
  {
   "cell_type": "code",
   "execution_count": null,
   "outputs": [],
   "source": [],
   "metadata": {
    "collapsed": false
   },
   "id": "224bf4f5fe7e7fc4"
  },
  {
   "cell_type": "code",
   "execution_count": null,
   "outputs": [],
   "source": [],
   "metadata": {
    "collapsed": false
   },
   "id": "35b854f02a18bf35"
  },
  {
   "cell_type": "code",
   "execution_count": null,
   "outputs": [],
   "source": [],
   "metadata": {
    "collapsed": false
   },
   "id": "4564c8aaed4b394f"
  },
  {
   "cell_type": "code",
   "execution_count": null,
   "outputs": [],
   "source": [],
   "metadata": {
    "collapsed": false
   },
   "id": "8b191c10b8494add"
  },
  {
   "cell_type": "code",
   "execution_count": null,
   "outputs": [],
   "source": [],
   "metadata": {
    "collapsed": false
   },
   "id": "98fe2aec3392a560"
  },
  {
   "cell_type": "code",
   "execution_count": null,
   "outputs": [],
   "source": [],
   "metadata": {
    "collapsed": false
   },
   "id": "99c790fe58178996"
  },
  {
   "cell_type": "code",
   "execution_count": null,
   "outputs": [],
   "source": [],
   "metadata": {
    "collapsed": false
   },
   "id": "984dd31a3b35e9e8"
  },
  {
   "cell_type": "code",
   "execution_count": null,
   "outputs": [],
   "source": [],
   "metadata": {
    "collapsed": false
   },
   "id": "e66eba796f7d5a42"
  }
 ],
 "metadata": {
  "kernelspec": {
   "display_name": "Python 3",
   "language": "python",
   "name": "python3"
  },
  "language_info": {
   "codemirror_mode": {
    "name": "ipython",
    "version": 2
   },
   "file_extension": ".py",
   "mimetype": "text/x-python",
   "name": "python",
   "nbconvert_exporter": "python",
   "pygments_lexer": "ipython2",
   "version": "2.7.6"
  }
 },
 "nbformat": 4,
 "nbformat_minor": 5
}
