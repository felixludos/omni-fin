{
 "cells": [
  {
   "cell_type": "code",
   "execution_count": 1,
   "id": "initial_id",
   "metadata": {
    "collapsed": true,
    "ExecuteTime": {
     "end_time": "2023-10-02T16:12:58.786446800Z",
     "start_time": "2023-10-02T16:12:58.753133200Z"
    }
   },
   "outputs": [],
   "source": [
    "from tabulate import tabulate\n",
    "import omnifin as of\n",
    "from omnifin import Report, Asset, Account, Tag, Transaction, Statement\n",
    "from datetime import datetime\n",
    "# now = datetime.now()\n",
    "# now"
   ]
  },
  {
   "cell_type": "code",
   "execution_count": 2,
   "outputs": [],
   "source": [
    "m = of.FinanceManager()\n",
    "m.initialize()"
   ],
   "metadata": {
    "collapsed": false,
    "ExecuteTime": {
     "end_time": "2023-10-02T16:12:58.875531700Z",
     "start_time": "2023-10-02T16:12:58.791449300Z"
    }
   },
   "id": "dcf7416bbf86188d"
  },
  {
   "cell_type": "code",
   "execution_count": 3,
   "outputs": [
    {
     "data": {
      "text/plain": "Report(test, 23-10-02 16:12:58)"
     },
     "execution_count": 3,
     "metadata": {},
     "output_type": "execute_result"
    }
   ],
   "source": [
    "m.create_current(category='test')"
   ],
   "metadata": {
    "collapsed": false,
    "ExecuteTime": {
     "end_time": "2023-10-02T16:12:58.890193800Z",
     "start_time": "2023-10-02T16:12:58.864532600Z"
    }
   },
   "id": "16ca30cc5f9f1f3d"
  },
  {
   "cell_type": "code",
   "execution_count": 5,
   "outputs": [],
   "source": [
    "# m.write()"
   ],
   "metadata": {
    "collapsed": false,
    "ExecuteTime": {
     "end_time": "2023-10-02T15:57:08.389081200Z",
     "start_time": "2023-10-02T15:57:08.368429800Z"
    }
   },
   "id": "ad9f95c247384524"
  },
  {
   "cell_type": "code",
   "execution_count": null,
   "outputs": [],
   "source": [
    "m.write(Asset(name='USD', category='currency'))\n",
    "m.write(Asset(name='EUR', category='currency'))"
   ],
   "metadata": {
    "collapsed": false
   },
   "id": "d9e30c62b4385d5d"
  },
  {
   "cell_type": "code",
   "execution_count": null,
   "outputs": [],
   "source": [],
   "metadata": {
    "collapsed": false
   },
   "id": "98fe2aec3392a560"
  },
  {
   "cell_type": "code",
   "execution_count": null,
   "outputs": [],
   "source": [],
   "metadata": {
    "collapsed": false
   },
   "id": "99c790fe58178996"
  },
  {
   "cell_type": "code",
   "execution_count": null,
   "outputs": [],
   "source": [],
   "metadata": {
    "collapsed": false
   },
   "id": "984dd31a3b35e9e8"
  },
  {
   "cell_type": "code",
   "execution_count": null,
   "outputs": [],
   "source": [],
   "metadata": {
    "collapsed": false
   },
   "id": "e66eba796f7d5a42"
  }
 ],
 "metadata": {
  "kernelspec": {
   "display_name": "Python 3",
   "language": "python",
   "name": "python3"
  },
  "language_info": {
   "codemirror_mode": {
    "name": "ipython",
    "version": 2
   },
   "file_extension": ".py",
   "mimetype": "text/x-python",
   "name": "python",
   "nbconvert_exporter": "python",
   "pygments_lexer": "ipython2",
   "version": "2.7.6"
  }
 },
 "nbformat": 4,
 "nbformat_minor": 5
}
