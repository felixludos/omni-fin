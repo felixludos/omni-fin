{
 "cells": [
  {
   "cell_type": "code",
   "execution_count": 4,
   "id": "initial_id",
   "metadata": {
    "collapsed": true,
    "ExecuteTime": {
     "end_time": "2024-02-23T12:51:16.189070200Z",
     "start_time": "2024-02-23T12:51:16.090816400Z"
    }
   },
   "outputs": [],
   "source": [
    "from omnibelt import load_yaml, load_json, save_json, save_yaml\n",
    "import omnifig as fig\n",
    "from datetime import datetime\n",
    "from omnifin.datacls import Record, Report, Asset, Account, Transaction, Statement\n",
    "from omnifin.building import init_db\n",
    "from omnifin.misc import data_root, repo_root, load_db\n",
    "fig.initialize()"
   ]
  },
  {
   "cell_type": "code",
   "outputs": [],
   "source": [
    "report = Report('text', account=1)"
   ],
   "metadata": {
    "collapsed": false,
    "ExecuteTime": {
     "end_time": "2024-02-23T12:51:35.063384100Z",
     "start_time": "2024-02-23T12:51:35.047910500Z"
    }
   },
   "id": "3b58a1fa43aad82e",
   "execution_count": 8
  },
  {
   "cell_type": "code",
   "outputs": [
    {
     "data": {
      "text/plain": "Report\u001B[91m*\u001B[0m(\u001B[96mtext\u001B[0m, 24-02-23 13:51:35)"
     },
     "execution_count": 9,
     "metadata": {},
     "output_type": "execute_result"
    }
   ],
   "source": [
    "report"
   ],
   "metadata": {
    "collapsed": false,
    "ExecuteTime": {
     "end_time": "2024-02-23T12:51:35.652721700Z",
     "start_time": "2024-02-23T12:51:35.626494600Z"
    }
   },
   "id": "81d7897c541d095",
   "execution_count": 9
  },
  {
   "cell_type": "code",
   "outputs": [
    {
     "ename": "AttributeError",
     "evalue": "'NoneType' object has no attribute 'execute'",
     "output_type": "error",
     "traceback": [
      "\u001B[1;31m---------------------------------------------------------------------------\u001B[0m",
      "\u001B[1;31mAttributeError\u001B[0m                            Traceback (most recent call last)",
      "Cell \u001B[1;32mIn[10], line 1\u001B[0m\n\u001B[1;32m----> 1\u001B[0m \u001B[43mreport\u001B[49m\u001B[38;5;241;43m.\u001B[39;49m\u001B[43maccount\u001B[49m\n",
      "File \u001B[1;32m~\\OneDrive\\Khan\\projects\\fin\\omnifin\\datacls.py:45\u001B[0m, in \u001B[0;36msub.__get__\u001B[1;34m(self, instance, owner)\u001B[0m\n\u001B[0;32m     43\u001B[0m value \u001B[38;5;241m=\u001B[39m \u001B[38;5;28mself\u001B[39m\u001B[38;5;241m.\u001B[39mvalue\n\u001B[0;32m     44\u001B[0m \u001B[38;5;28;01mif\u001B[39;00m \u001B[38;5;28misinstance\u001B[39m(value, (\u001B[38;5;28mint\u001B[39m, \u001B[38;5;28mstr\u001B[39m)):\n\u001B[1;32m---> 45\u001B[0m \tvalue \u001B[38;5;241m=\u001B[39m \u001B[38;5;28;43mself\u001B[39;49m\u001B[38;5;241;43m.\u001B[39;49m\u001B[43mrecord_type\u001B[49m\u001B[38;5;241;43m.\u001B[39;49m\u001B[43mfind\u001B[49m\u001B[43m(\u001B[49m\u001B[43mvalue\u001B[49m\u001B[43m)\u001B[49m\n\u001B[0;32m     46\u001B[0m \t\u001B[38;5;28mself\u001B[39m\u001B[38;5;241m.\u001B[39mvalue \u001B[38;5;241m=\u001B[39m value\n\u001B[0;32m     47\u001B[0m \u001B[38;5;28;01mreturn\u001B[39;00m value\n",
      "File \u001B[1;32m~\\OneDrive\\Khan\\projects\\fin\\omnifin\\datacls.py:109\u001B[0m, in \u001B[0;36mRecord.find\u001B[1;34m(cls, query, **props)\u001B[0m\n\u001B[0;32m    107\u001B[0m \u001B[38;5;28;01mif\u001B[39;00m query \u001B[38;5;129;01mis\u001B[39;00m \u001B[38;5;28;01mNone\u001B[39;00m \u001B[38;5;129;01mand\u001B[39;00m \u001B[38;5;28mlen\u001B[39m(props) \u001B[38;5;241m==\u001B[39m \u001B[38;5;241m0\u001B[39m:\n\u001B[0;32m    108\u001B[0m \t\u001B[38;5;28;01mreturn\u001B[39;00m \u001B[38;5;28;01mNone\u001B[39;00m\n\u001B[1;32m--> 109\u001B[0m \u001B[38;5;28;01mreturn\u001B[39;00m \u001B[38;5;28mcls\u001B[39m\u001B[38;5;241m.\u001B[39m_cache\u001B[38;5;241m.\u001B[39msetdefault(query, \u001B[38;5;28;43mcls\u001B[39;49m\u001B[38;5;241;43m.\u001B[39;49m\u001B[43m_find_record\u001B[49m\u001B[43m(\u001B[49m\u001B[43mquery\u001B[49m\u001B[43m,\u001B[49m\u001B[43m \u001B[49m\u001B[38;5;241;43m*\u001B[39;49m\u001B[38;5;241;43m*\u001B[39;49m\u001B[43mprops\u001B[49m\u001B[43m)\u001B[49m)\n",
      "File \u001B[1;32m~\\OneDrive\\Khan\\projects\\fin\\omnifin\\datacls.py:342\u001B[0m, in \u001B[0;36mAccount._find_record\u001B[1;34m(cls, query)\u001B[0m\n\u001B[0;32m    340\u001B[0m \u001B[38;5;129m@classmethod\u001B[39m\n\u001B[0;32m    341\u001B[0m \u001B[38;5;28;01mdef\u001B[39;00m \u001B[38;5;21m_find_record\u001B[39m(\u001B[38;5;28mcls\u001B[39m, query: \u001B[38;5;28mstr\u001B[39m \u001B[38;5;241m|\u001B[39m \u001B[38;5;28mint\u001B[39m):\n\u001B[1;32m--> 342\u001B[0m \tout \u001B[38;5;241m=\u001B[39m \u001B[38;5;28;43mcls\u001B[39;49m\u001B[38;5;241;43m.\u001B[39;49m\u001B[43m_conn\u001B[49m\u001B[38;5;241;43m.\u001B[39;49m\u001B[43mexecute\u001B[49m(\u001B[38;5;124mf\u001B[39m\u001B[38;5;124m'\u001B[39m\u001B[38;5;124mSELECT * FROM accounts WHERE \u001B[39m\u001B[38;5;132;01m{\u001B[39;00m\u001B[38;5;124m\"\u001B[39m\u001B[38;5;124mid\u001B[39m\u001B[38;5;124m\"\u001B[39m\u001B[38;5;250m \u001B[39m\u001B[38;5;28;01mif\u001B[39;00m\u001B[38;5;250m \u001B[39m\u001B[38;5;28misinstance\u001B[39m(query,\u001B[38;5;250m \u001B[39m\u001B[38;5;28mint\u001B[39m)\u001B[38;5;250m \u001B[39m\u001B[38;5;28;01melse\u001B[39;00m\u001B[38;5;250m \u001B[39m\u001B[38;5;124m\"\u001B[39m\u001B[38;5;124maccount_name\u001B[39m\u001B[38;5;124m\"\u001B[39m\u001B[38;5;132;01m}\u001B[39;00m\u001B[38;5;124m = ?\u001B[39m\u001B[38;5;124m'\u001B[39m,\n\u001B[0;32m    343\u001B[0m \t\t\t\t\t\t\t(query,))\u001B[38;5;241m.\u001B[39mfetchone()\n\u001B[0;32m    344\u001B[0m \tID, name, category, owner, description, report \u001B[38;5;241m=\u001B[39m out\n\u001B[0;32m    345\u001B[0m \t\u001B[38;5;66;03m# report = Report.find(report)\u001B[39;00m\n",
      "\u001B[1;31mAttributeError\u001B[0m: 'NoneType' object has no attribute 'execute'"
     ]
    }
   ],
   "source": [
    "report.account"
   ],
   "metadata": {
    "collapsed": false,
    "ExecuteTime": {
     "end_time": "2024-02-23T12:51:38.815577700Z",
     "start_time": "2024-02-23T12:51:38.682399700Z"
    }
   },
   "id": "2dca26b76a83951f",
   "execution_count": 10
  },
  {
   "cell_type": "code",
   "outputs": [],
   "source": [],
   "metadata": {
    "collapsed": false
   },
   "id": "bce908706a0e4a14"
  },
  {
   "cell_type": "code",
   "outputs": [],
   "source": [
    "root = repo_root()\n",
    "\n",
    "conn = load_db(root / 'db' / 'novo.db')\n",
    "init_db(conn)\n",
    "Record.set_conn(conn)"
   ],
   "metadata": {
    "collapsed": false,
    "ExecuteTime": {
     "end_time": "2024-02-23T12:03:42.334113200Z",
     "start_time": "2024-02-23T12:03:42.314950500Z"
    }
   },
   "id": "ab8c5cfa095b46e8",
   "execution_count": 2
  },
  {
   "cell_type": "code",
   "outputs": [
    {
     "name": "stdout",
     "output_type": "stream",
     "text": [
      "[Asset\u001B[91m\u001B[0m(\u001B[92mUSD\u001B[0m), Asset\u001B[91m\u001B[0m(\u001B[92mEUR\u001B[0m), Asset\u001B[91m\u001B[0m(\u001B[92mGBP\u001B[0m), Asset\u001B[91m\u001B[0m(\u001B[92mCHF\u001B[0m), Asset\u001B[91m\u001B[0m(\u001B[92mETB\u001B[0m), Asset\u001B[91m\u001B[0m(\u001B[92mRWF\u001B[0m), Asset\u001B[91m\u001B[0m(\u001B[92mTZS\u001B[0m), Asset\u001B[91m\u001B[0m(\u001B[92mSCR\u001B[0m), Asset\u001B[91m\u001B[0m(\u001B[92mAUD\u001B[0m), Asset\u001B[91m\u001B[0m(\u001B[92mCAD\u001B[0m)]\n"
     ]
    }
   ],
   "source": [
    "assets = list(Asset.find_all())\n",
    "print(assets)"
   ],
   "metadata": {
    "collapsed": false,
    "ExecuteTime": {
     "end_time": "2024-02-23T12:03:49.177752600Z",
     "start_time": "2024-02-23T12:03:49.110231900Z"
    }
   },
   "id": "f473b8628213931b",
   "execution_count": 4
  },
  {
   "cell_type": "code",
   "outputs": [],
   "source": [],
   "metadata": {
    "collapsed": false,
    "ExecuteTime": {
     "end_time": "2024-02-23T11:46:12.802608900Z",
     "start_time": "2024-02-23T11:46:12.795000900Z"
    }
   },
   "id": "f9e15d4b3cb9a8a5",
   "execution_count": 1
  },
  {
   "cell_type": "code",
   "outputs": [],
   "source": [],
   "metadata": {
    "collapsed": false,
    "ExecuteTime": {
     "end_time": "2024-02-23T11:46:12.811757Z",
     "start_time": "2024-02-23T11:46:12.806418900Z"
    }
   },
   "id": "49fba47e3b682358",
   "execution_count": 1
  },
  {
   "cell_type": "code",
   "outputs": [],
   "source": [
    "conn.close()"
   ],
   "metadata": {
    "collapsed": false,
    "ExecuteTime": {
     "end_time": "2024-02-23T11:46:12.821251400Z",
     "start_time": "2024-02-23T11:46:12.814816600Z"
    }
   },
   "id": "27effd1300850eda",
   "execution_count": 1
  },
  {
   "cell_type": "code",
   "outputs": [],
   "source": [
    "from dataclasses import dataclass"
   ],
   "metadata": {
    "collapsed": false,
    "ExecuteTime": {
     "end_time": "2024-02-23T14:38:36.694185100Z",
     "start_time": "2024-02-23T14:38:36.672081400Z"
    }
   },
   "id": "fdae0f766fd3c377",
   "execution_count": 11
  },
  {
   "cell_type": "code",
   "outputs": [],
   "source": [
    "\n",
    "class sub:\n",
    "\tdef __init__(self, record_type):\n",
    "\t\tself.record_type = record_type\n",
    "\t\tself.value = None\n",
    "\n",
    "\tdef __get__(self, instance, owner):\n",
    "\t\tvalue = self.value\n",
    "\t\tif isinstance(value, (int, str)):\n",
    "\t\t\tvalue = self.record_type._finding(value)\n",
    "\t\t\tself.value = value\n",
    "\t\treturn value\n",
    "\n",
    "\tdef __set__(self, instance, value):\n",
    "\t\tself.value = value\n",
    "\n",
    "\n",
    "@dataclass\n",
    "class SubData:\n",
    "\tname: str = 'myname'\n",
    "\t@classmethod\n",
    "\tdef _finding(cls, query):\n",
    "\t\tprint(f'finding {query}')\n",
    "\t\treturn cls(query)\n",
    "\n",
    "@dataclass\n",
    "class Data:\n",
    "\tID: int = None\n",
    "\tchild: SubData = sub(SubData)\n",
    "\tother = None\n",
    "\n",
    "\n"
   ],
   "metadata": {
    "collapsed": false,
    "ExecuteTime": {
     "end_time": "2024-02-23T14:41:44.803099Z",
     "start_time": "2024-02-23T14:41:44.784928Z"
    }
   },
   "id": "6ce3c9ca6d1d923d",
   "execution_count": 12
  },
  {
   "cell_type": "code",
   "outputs": [
    {
     "name": "stdout",
     "output_type": "stream",
     "text": [
      "finding alpha\n"
     ]
    },
    {
     "data": {
      "text/plain": "Data(ID=10, child=SubData(name='alpha'))"
     },
     "execution_count": 15,
     "metadata": {},
     "output_type": "execute_result"
    }
   ],
   "source": [
    "d = Data(ID=10, child='alpha')\n",
    "d"
   ],
   "metadata": {
    "collapsed": false,
    "ExecuteTime": {
     "end_time": "2024-02-23T14:42:14.745211900Z",
     "start_time": "2024-02-23T14:42:14.733938500Z"
    }
   },
   "id": "e9d9c711e75e81bd",
   "execution_count": 15
  },
  {
   "cell_type": "code",
   "outputs": [
    {
     "data": {
      "text/plain": "'alpha'"
     },
     "execution_count": 16,
     "metadata": {},
     "output_type": "execute_result"
    }
   ],
   "source": [
    "d.child.name"
   ],
   "metadata": {
    "collapsed": false,
    "ExecuteTime": {
     "end_time": "2024-02-23T14:42:19.748186Z",
     "start_time": "2024-02-23T14:42:19.720849100Z"
    }
   },
   "id": "a8f91b2c4d716269",
   "execution_count": 16
  },
  {
   "cell_type": "code",
   "outputs": [
    {
     "data": {
      "text/plain": "B(x=5, y=0, z=10)"
     },
     "execution_count": 25,
     "metadata": {},
     "output_type": "execute_result"
    }
   ],
   "source": [
    "@dataclass\n",
    "class A:\n",
    "\tx: int = 0\n",
    "\ty: int = 0\n",
    "\t\n",
    "@dataclass\n",
    "class B(A):\n",
    "\tz: int = 0\n",
    "\t\n",
    "\tdef __init__(self, z: int = 0, **kwrags):\n",
    "\t\tsuper().__init__(**kwrags)\n",
    "\t\tself.z = z\n",
    "\t\n",
    "B(10, x=5)"
   ],
   "metadata": {
    "collapsed": false,
    "ExecuteTime": {
     "end_time": "2024-02-24T13:11:26.465135100Z",
     "start_time": "2024-02-24T13:11:26.410434800Z"
    }
   },
   "id": "713e897f896a6ac9",
   "execution_count": 25
  },
  {
   "cell_type": "code",
   "outputs": [],
   "source": [],
   "metadata": {
    "collapsed": false
   },
   "id": "ed96c799ad1a5fc0"
  },
  {
   "cell_type": "code",
   "outputs": [],
   "source": [],
   "metadata": {
    "collapsed": false
   },
   "id": "a0a4178aa621e01c"
  },
  {
   "cell_type": "code",
   "outputs": [],
   "source": [],
   "metadata": {
    "collapsed": false
   },
   "id": "6551e9c496a0018d"
  },
  {
   "cell_type": "code",
   "outputs": [],
   "source": [],
   "metadata": {
    "collapsed": false
   },
   "id": "7538265003e31191"
  }
 ],
 "metadata": {
  "kernelspec": {
   "display_name": "Python 3",
   "language": "python",
   "name": "python3"
  },
  "language_info": {
   "codemirror_mode": {
    "name": "ipython",
    "version": 2
   },
   "file_extension": ".py",
   "mimetype": "text/x-python",
   "name": "python",
   "nbconvert_exporter": "python",
   "pygments_lexer": "ipython2",
   "version": "2.7.6"
  }
 },
 "nbformat": 4,
 "nbformat_minor": 5
}
